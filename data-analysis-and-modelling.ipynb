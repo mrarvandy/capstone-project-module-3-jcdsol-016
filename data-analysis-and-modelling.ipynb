{
 "cells": [
  {
   "cell_type": "markdown",
   "metadata": {},
   "source": [
    "# <center> Analisis dan Pemodelan Data Harga Apartemen di Daegu, Korea Selatan\n",
    "<br>\n",
    "<br>\n",
    "<br>\n",
    "<br>\n",
    "<br>\n",
    "<br>\n",
    "<br>\n",
    "<center> Dalam rangka pemenuhan <i> Capstone Project </i> pada Modul 3\n",
    "<br>\n",
    "<br>\n",
    "<br>\n",
    "<br>\n",
    "<br>\n",
    "<center> Dibuat oleh:\n",
    "<br>\n",
    "<br>\n",
    "<br>\n",
    "<center> Muhammad Rizal Arvandy\n",
    "<center> JCDSOL-016"
   ]
  },
  {
   "cell_type": "markdown",
   "metadata": {},
   "source": [
    "## <center> Daftar Isi"
   ]
  },
  {
   "cell_type": "markdown",
   "metadata": {},
   "source": [
    "## <center> Pemahaman Terhadap Bisnis\n",
    "\n",
    "### Latar Belakang\n",
    "\n",
    "Daegu adalah kota yang menjelma menjadi daerah aglomerasi dengan beberapa kota satelit yang mengelilinginya dan berada di daerah Yeongnam, Korea Selatan, dan tepatnya berada di sekitaran provinsi Gyeongsang Utara, sebuah provinsi hasil pemekaran dari provinsi Gyeongsang yang telah lama berdiri sejak Kekaisaraan Korea pada masa wangsa Joseon yang menduduki seluruh Semenanjung Korea, jauh sebelum terbelah menjadi dua pada saat ini. Kota ini menaungi hingga 2,5 juta penduduk per sensus 2018, sehingga membuatnya menjadi salah kota terbesar ketiga di Korea Selatan, tepat berada di belakang kota yang terkira sebelumnya, yakni ibukota Korea Selatan, Seoul (pada masa lampau disebut Hanseong), serta kota yang pada masanya berada di provinsi yang sama, yakni Busan. Jika ditelusuri lebih jauh berdasarkan sejarah yang terjadi pada kota ini, kota ini tumbuh menjadi salah satu daerah metropolitan di Korea Selatan bukanlah tanpa sebab. Pada dasarnya, kota ini sedari dulu menjadi kota yang dipertimbangkan dan diperhatikan, dari bakal ibukota baru Kerajaan Silla pada era tiga kerajaan, tempat penyimpanan kitab suci Tripitaka dan terjemahannya dalam Bahasa Korea pada era Goryeo mengingat mayoritas penduduk Kekaisaran Korea menganut agama Buddha, *hub* utama transportasi darat Jalur Besar Yeongam antara Seoul dan Busan dan menjadikannya ibukota provinsi pada era Joseon, sehingga pada masa pendudukan oleh Kekaisaran Jepang, kota ini dipilih menjadi titik utama gerakan kemerdekaan untuk masyarakat Semenanjung Korea, serta hingga pada masa republik, di bawah kepemimpinan militeristik dan diktatorial Park Chung-Hee dan kroni-kroninya yang jamak disebut *chaebol* di Korea, kota ini ditunjuk menjadi basis politik partainya dan diperhatikan penuh perkembangan ekonominya, sehingga kian hari meningkatkan potensi dan akutalisasi tarikan (imigrasi baik secara lokal dan internasional) penduduk untuk daerah metropolitan ini.\n",
    "\n",
    "Tentu, dengan penjabaran historis dan kondisi aktual yang dijabarkan sebelumnya, meskipun kota ini hanya menampung 4,84% dari total populasi Korea Selatan, dengan luasan kota hanya mencapai 1.500 kmkm<sup>2</sup>, kepadatan penduduk kota ini mencapai 1.600 jiwa per km<sup>2</sup>, hal akomodasi alias papan dalam tiga kebutuhan utama manusia (sandang, papan, dan pangan) menjadi tantangan vital bagi kota ini dan penduduknya. Sehingga, seiring dengan bertumbuhnya jumlah populasi kota ini, pertumbuhan kota pun tidak sepenuhnya tradisional, yakni secara konsentris melebar secara radial dan setidaknya membentuk nukleus-nukleus kecil secara periferal di sekitar Daegu juga bertumbuh secara konsentris pula, terdapat juga pertumbuhan secara menjulang ke atas dengan hadirnya beberapa jenis hunian dari bangunan *mid-rise* hingga apartemen besar. Sehingga, kebutuhan akomodasi yang diejawantahkan dalam bentuk hunian berupa apartemen ini menjadi kebutuhan penting bagi masyarakatnya, dan analisis serta pemodelan valuasi bangunan ini menjadi hal yang menarik untuk ditelisik. Valuasi yang mudah dalam kasus ini ialah harga apartemen yang ditawarkan, yakni dalam bentuk mata uang lokalnya, yakni Won Korea Selatan (KRW), karena Korea Utara pun memiliki mata uang dengan nama yang sama, karena valuasi ini cukup menggambarkan besaran potensi dan aktualisasi *land value capture*, mekanisme untuk menentukan besaran peningkatan nilai ekonomi dari lahan, dengan mempertimbangkan kemudahan dari fasilitas di sekelilingnya, dan bangunan-bangunan infrastruktur penunjang. Dengan konsensus dan temuan dasar, semakin mudah dan terjalinnya suatu lahan dan bangunan yang menanunginya dengan sarana dan prasarana konektivitas pada kota tersebut, tentu valuasi besaran ini akan bertambah pula."
   ]
  },
  {
   "cell_type": "markdown",
   "metadata": {},
   "source": [
    "### Pernyataan Masalah\n",
    "\n",
    "Menimbang berdasarkan pernyataan latar belakang yang dikemukakan pada subbab berikutnya, valuasi langsung dalam besaran ekonomis, terlebih dalam bentuk mata uang sebagai besaran valuasi memiliki kecenderungan tersendiri. Tentunya, kecenderungan yang sangat memengaruhi yakni sifat alamiah manusia sebagai makhluk ekonomi yakni selalu berupaya untuk memenuhi kebutuhannya dengan ekonomi, manusia, dalam hal ini pemilik dan pembeli atau penyewa apartemen, yang mana bisa jadi juga merupakan seluruh manusia pada usia produktif, punya kecondongan yang berbeda-beda. Pemilik apartemen sudah seyogyanya ingin mencari keuntungan sebesar-besarnya, sedangkan pembeli atau penyewa hunian tersebut sudah sewajarnya mencari hunian mereka dengan biaya seminim-minimnya. Jelas, kedua faktor tersebut menjadi tantangan tersendiri yang memengaruhi harga pasaran apartemen beserta titik kesetimbangannya dan hal tersebut sangat berdampak bagi pemilik apartemen yang ingin menjual atau menyewakan huniannya, dan dengan variasi harga yang beragam di sekujur Kota Daegu dengan keunikannya tersendiri, dari dekat dengan kompleks olahraga yang menaungi dua klub olahraga kebanggaan Daegu, yakni Samsung Lions di bisbol dan Daegu FC di sepakbola, hingga dekat dengan pusat perkantoran dan bakal lokasi industri pakaian terkemuka di Asia Timur yang akan berdiri di sisi timur laut kota tersebut seraya *tagline* \"Daegu: Fashion City\" sudah dicanangkan sejak akhir dekade 1990-an, yang bisa memengaruhi harga jual apartemen. Jikalau harga yang dipatok lebih tinggi dari harga pasaran, sudah dengan jelas hunian tersebut susah terjual, dan kalau pun terjadi sebaliknya, pihak penjual akan merugi karena valuasi yang dipatok tidak sedemikian seharusnya. **Dengan variasi harga apartemen yang cukup beragam, penentuan harga jual hunian dengan harga sepantasnya dan sesuai dengan harga pasaran di Kota Daegu menjadi hal yang teramat penting.**"
   ]
  },
  {
   "cell_type": "markdown",
   "metadata": {},
   "source": [
    "### Tujuan\n",
    "\n",
    "Menilik pernyataan berupa kalimat yang ditebalkan pada subbab sebelumnya dan menimbang bahwa sepatutnya tujuan pengerjaan analisis ini menjadi jawaban atas permasalahan yang dikemukan, dapat dilakukan inferensi bahwa tujuan pengerjaan analisis ini yakni **menentukan harga jual hunian apartemen berdasarkan berbagai faktor, dari jarak dengan stasiun *subway* hingga jumlah fasilitas umum yang berdekatan, yang bisa saja memengaruhi agar tepat dan bersesuaian dengan harga pasarannya.**\n",
    "\n",
    "Dengan demikian, pemodelan ini akan sangat berguna bagi pihak penjual atau pemberi sewaan hunian berjenis apartemen ini. Pihak-pihak tersebut akan terbantu dengan kemudahan untuk menentukan valuasi apartemen mereka tanpa perlu melakukan survei langsung ke lapangan lagi."
   ]
  },
  {
   "cell_type": "markdown",
   "metadata": {},
   "source": [
    "### Pendekatan Analitis\n",
    "\n",
    "Analisis yang dilakukan pada pengerjaan pemodelan ini adalah mencoba menghubungkan dan mensinergisasikan beberapa variabel independen atau fitur yang tersedia pada set data seperti yang telah disebutkan sebelumnya, yakni jarak dengan stasiun *subway* terdekat dan jumlah fasilitas umum yang berdekatan, sebagai contoh, untuk dibuat komparasinya dan menghubungkan beberapa variabel tersebut dengan variabel dependen atau target yang menjadi tujuan pengerjaan analisis dan pemodelan ini, yakni valuasi harga apartemen yang diwakilkan oleh mata uang lokal yakni Won Korea Selatan (KRW).\n",
    "\n",
    "Pemodelan yang akan digunakan, dengan mempertimbangkan valuasi target bersifat kontinu meskipun basis terkecil nilai satuan variabel target hanya sebesar 10<sup>-2</sup>. Beberapa pemodelan yang cocok untuk kasus ini ialah pemodelan bertipe regresi, dari regresi linear hingga logaritmik tergantung distribusi nilai variabel target nantinya, dan beberapa pemodelan yang sebenarnya tidak bersifat regresi namun bisa mengakomodasi perihal kebutuhan kontinuitas prediksi pada variabel target dengan pendekatan regresi juga seperti pohon keputusan, *k-nearest neighbors*, dan *random forest*."
   ]
  },
  {
   "cell_type": "markdown",
   "metadata": {},
   "source": [
    "### Metrik Evaluasi\n",
    "\n",
    "Metrik evaluasi utama yang digunakan dalam pengerjaan pemodelan ini yakni besaran statistik yang digunakan dalam menentukan pemodelan bertipe regresi. Besaran-besaran tersebut bisa dalam bentuk RMSE (*Root Mean Square Error*) yakni rerata dari jumlah kuadrat galat antara hasil prediksi dan realitanya, MAE (*Mean Absolute Error*) yakni rerata dari jumlah besaran mutlak galat antara hasil prediksi dan realitanya, MAPE (*Mean Average Percentage Error*) yakni rerata dari jumlah kuadrat galat antara hasil prediksi dan realitanya, atau juga dalam bentuk R<sup>2</sup> baik dalam bentuk biasa maupun *adjusted*, yakni besaran yang merepresentasikan varians keseluruhan data. Sayangnya, besaran R<sup>2</sup> tidak valid untuk model nonlinear, sehingga perlu dipertimbangkan bagaimana regresi ini harus dijalankan nantinya.\n",
    "\n",
    "Dengan sedikit penjelasan yang dicantumkan pada paragraf sebelumnya, bisa dilakukan deduksi bahwa kejaran besaran metrik evaluasi ini harus bernilai sekecil-kecilnya hingga mendekati 0 (pada nyatanya agak susah untuk membuat besaran yang mengandung galat ini bernilai 0) untuk segala jenis galat dan sebesar-besarnya untuk besaran R<sup>2</sup>, yakni 1 karena pada besaran ini rentang nilai yang tersedia hanya dari 0 hingga 1 saja.\n",
    "\n",
    "Nantinya, untuk evaluasi secara menyeluruh, tidak hanya berdasarkan dari komponen statistik tersebut. Pada kasus ini, komponen lain seperti interpretabilitas dan durasi berjalannya pemodelan akan menjadi dua faktor konsiderasi juga. Namun, pada kasus ini, komponen statistik akan diperhitungkan lebih kuat. Dengan menggunakan matriks keputusan, yakni matriks yang digunakan untuk evaluasi opsi dengan berbagai pertimbangan, ketiga komponen tersebut dicantumkan dengan pembobotan 90:5:5 untuk komponen statistik, interpretabilitas, dan durasi berjalannya pemodelan. Untuk pembobotan komponen statistik bisa dipecah lagi tergantung metrik apa saja yang akan digunakan nantinya. Nantinya, dengan penilaian 0-100 untuk setiap komponen akan dibobotkan dan dijumlahkan untuk mendapatkan model terpilih yang sekiranya cocok dengan realita yang ada."
   ]
  },
  {
   "cell_type": "markdown",
   "metadata": {},
   "source": [
    "## <center> Pemahaman Terhadap Data"
   ]
  },
  {
   "cell_type": "markdown",
   "metadata": {},
   "source": [
    "### *Library* yang Digunakan"
   ]
  }
 ],
 "metadata": {
  "kernelspec": {
   "display_name": "Python 3",
   "language": "python",
   "name": "python3"
  },
  "language_info": {
   "codemirror_mode": {
    "name": "ipython",
    "version": 3
   },
   "file_extension": ".py",
   "mimetype": "text/x-python",
   "name": "python",
   "nbconvert_exporter": "python",
   "pygments_lexer": "ipython3",
   "version": "3.12.6"
  }
 },
 "nbformat": 4,
 "nbformat_minor": 2
}
